{
 "cells": [
  {
   "cell_type": "code",
   "execution_count": null,
   "id": "ab431d80",
   "metadata": {},
   "outputs": [],
   "source": [
    "import pandas as pd\n",
    "import seaborn as sns\n",
    "import matplotlib.pyplot as plt"
   ]
  },
  {
   "cell_type": "code",
   "execution_count": null,
   "id": "e5644ce7",
   "metadata": {},
   "outputs": [],
   "source": [
    "\n",
    "from sklearn.model_selection import cross_val_score\n",
    "from sklearn.pipeline import Pipeline\n",
    "from sklearn.compose import ColumnTransformer\n",
    "from sklearn.impute import SimpleImputer\n",
    "from sklearn.preprocessing import OneHotEncoder\n",
    "from sklearn.preprocessing import LabelEncoder\n",
    "from sklearn.preprocessing import OrdinalEncoder\n",
    "from sklearn.preprocessing import FunctionTransformer\n",
    "from sklearn.model_selection import train_test_split"
   ]
  },
  {
   "cell_type": "code",
   "execution_count": null,
   "id": "7dbdec1d",
   "metadata": {},
   "outputs": [],
   "source": [
    "titanic = pd.read_csv(r\".\\Titanicdata\\train.csv\")"
   ]
  },
  {
   "cell_type": "code",
   "execution_count": null,
   "id": "a235e343",
   "metadata": {},
   "outputs": [],
   "source": [
    "print(titanic.head())\n",
    "print(titanic.info())"
   ]
  },
  {
   "cell_type": "code",
   "execution_count": null,
   "id": "15d1d11d",
   "metadata": {},
   "outputs": [],
   "source": [
    "#cambin,age and embarked have missing values \n"
   ]
  },
  {
   "cell_type": "code",
   "execution_count": null,
   "id": "410bd5ea",
   "metadata": {},
   "outputs": [],
   "source": [
    "print(titanic.describe())\n",
    "print(titanic['Survived'].value_counts())\n"
   ]
  },
  {
   "cell_type": "code",
   "execution_count": null,
   "id": "7ba24bd4",
   "metadata": {},
   "outputs": [],
   "source": [
    "#Visualize how many people survived vs didn’t\n",
    "sns.countplot(x='Survived', data=titanic)\n",
    "plt.title(\"Survival Count (0 = Died, 1 = Survived)\")\n",
    "plt.show()"
   ]
  },
  {
   "cell_type": "code",
   "execution_count": null,
   "id": "5ec696f2",
   "metadata": {},
   "outputs": [],
   "source": [
    "##Visualize  survived by gender\n",
    "sns.countplot(x='Sex', hue='Survived', data=titanic)\n",
    "plt.title(\"Survival by Gender\")\n",
    "plt.show()"
   ]
  },
  {
   "cell_type": "code",
   "execution_count": null,
   "id": "4a037abf",
   "metadata": {},
   "outputs": [],
   "source": [
    "##Visualize  survived by Age \n",
    "# Create age groups\n",
    "titanic['AgeGroup'] = pd.cut(titanic['Age'], \n",
    "                             bins=[0, 12, 18, 35, 60, 80],\n",
    "                             labels=['Child','Teen','Young Adult','Adult','Senior'])\n",
    "\n",
    "# Plot survival by age group\n",
    "sns.countplot(x='AgeGroup', hue='Survived', data=titanic)\n",
    "plt.title(\"Survival by Age Group\")\n",
    "plt.show()\n"
   ]
  },
  {
   "cell_type": "code",
   "execution_count": null,
   "id": "ed11ca76",
   "metadata": {},
   "outputs": [],
   "source": [
    "##Visualize  survived byPassenger Class\n",
    "sns.countplot(x='Pclass', hue='Survived', data=titanic)\n",
    "plt.title(\"Survival by Passenger Class\")\n",
    "plt.show()"
   ]
  },
  {
   "cell_type": "code",
   "execution_count": null,
   "id": "9497109b",
   "metadata": {},
   "outputs": [],
   "source": [
    "#Visualize  survived by Embarked\n",
    "sns.countplot(x='Embarked',hue=\"Survived\",data=titanic)\n",
    "plt.title(\"Survival by Port of Embarkation\")\n",
    "plt.show()\n"
   ]
  },
  {
   "cell_type": "code",
   "execution_count": null,
   "id": "6b40a99e",
   "metadata": {},
   "outputs": [],
   "source": [
    "#thus in all these features there is variation with number of survial, so they really important in analysis "
   ]
  },
  {
   "cell_type": "code",
   "execution_count": null,
   "id": "2be9ede8",
   "metadata": {},
   "outputs": [],
   "source": [
    "#Step2:Data Preprocessing\n",
    "print(titanic.info())\n",
    "print(titanic.isna().sum())"
   ]
  },
  {
   "cell_type": "code",
   "execution_count": null,
   "id": "c4e64a95",
   "metadata": {},
   "outputs": [],
   "source": [
    "titanic['Age'] = titanic['Age'].fillna(titanic['Age'].median())\n",
    "print(titanic['Age'])\n",
    "\n",
    "titanic['Cabin'] = titanic['Cabin'].fillna('Unknown')\n",
    "print(titanic.head())"
   ]
  },
  {
   "cell_type": "code",
   "execution_count": null,
   "id": "3ed7ddcb",
   "metadata": {},
   "outputs": [],
   "source": [
    "\n",
    "Sex_features=[\"Sex\"]\n",
    "# Fit and transform Sex column\n",
    "# le = LabelEncoder()\n",
    "# # Fit and transform the column\n",
    "# titanic['Sex'] = le.fit_transform(titanic['Sex']) \n",
    "\n",
    "# print(titanic['Sex'])\n",
    "\n",
    "Sex_transformer = Pipeline([\n",
    "    (\"onehot\", OneHotEncoder(drop='if_binary'))\n",
    "])\n"
   ]
  },
  {
   "cell_type": "code",
   "execution_count": null,
   "id": "9de53f71",
   "metadata": {},
   "outputs": [],
   "source": [
    "Embarked_features=['Embarked']\n",
    "Embarked_transformer=Pipeline(\n",
    "    steps=[\n",
    "        (\"imputer\",SimpleImputer(strategy=\"constant\",fill_value=\"missing\")),\n",
    "         (\"onehot\",OneHotEncoder(handle_unknown=\"ignore\"))\n",
    "    ]\n",
    ")"
   ]
  },
  {
   "cell_type": "code",
   "execution_count": null,
   "id": "b8911beb",
   "metadata": {},
   "outputs": [],
   "source": [
    "# Extract Title from Name\n",
    "def extract_title(X):\n",
    "    X = X.copy()\n",
    "    X['Title'] = X['Name'].str.extract(r'([A-Za-z]+)\\.', expand=False)\n",
    "    return X[['Title']]\n"
   ]
  },
  {
   "cell_type": "code",
   "execution_count": null,
   "id": "90e90e74",
   "metadata": {},
   "outputs": [],
   "source": [
    "# Bin Age into groups\n",
    "def bin_age(X):\n",
    "    X = X.copy()\n",
    "    X['Age'] = X['Age'].fillna(X['Age'].median())\n",
    "    bins = [0, 12, 20, 40, 60, 100]\n",
    "    labels = ['Child', 'Teen', 'Adult', 'Middle-Age', 'Senior']\n",
    "    X['AgeGroup'] = pd.cut(X['Age'], bins=bins, labels=labels)\n",
    "    return X[['AgeGroup']]"
   ]
  },
  {
   "cell_type": "code",
   "execution_count": null,
   "id": "06cd0459",
   "metadata": {},
   "outputs": [],
   "source": [
    "\n",
    "name_features=['Name']\n",
    "name_transformer=Pipeline(\n",
    "    steps=[\n",
    "      (\"imputer\",FunctionTransformer(func=extract_title,validate=False)),\n",
    "      ('onehot', OneHotEncoder(handle_unknown='ignore'))\n",
    "      \n",
    "    ]\n",
    ")"
   ]
  },
  {
   "cell_type": "code",
   "execution_count": null,
   "id": "4c3331fa",
   "metadata": {},
   "outputs": [],
   "source": [
    "age_features=['Age']\n",
    "age_transformer=Pipeline(\n",
    "    steps=[\n",
    "        (\"imputer\",FunctionTransformer(func=bin_age,validate=False)),\n",
    "        ('onehot', OneHotEncoder(handle_unknown='ignore'))\n",
    "    ]\n",
    ")\n"
   ]
  },
  {
   "cell_type": "code",
   "execution_count": null,
   "id": "cbed3587",
   "metadata": {},
   "outputs": [],
   "source": [
    "preprocessor= ColumnTransformer(\n",
    "    transformers=[\n",
    "        (\"sex\",Sex_transformer,Sex_features),\n",
    "        (\"embarked\",Embarked_transformer,Embarked_features),\n",
    "        (\"name\",name_transformer,name_features),\n",
    "        (\"age\",age_transformer,age_features)\n",
    "        ])\n",
    "\n",
    "print(titanic.head())"
   ]
  },
  {
   "cell_type": "code",
   "execution_count": null,
   "id": "7d91cbc6",
   "metadata": {},
   "outputs": [],
   "source": [
    "from sklearn.model_selection import GridSearchCV\n",
    "from sklearn.linear_model import LogisticRegression\n",
    "from sklearn.ensemble import RandomForestClassifier\n",
    "from xgboost import XGBClassifier  "
   ]
  },
  {
   "cell_type": "code",
   "execution_count": null,
   "id": "c869d4ec",
   "metadata": {},
   "outputs": [],
   "source": [
    "\n",
    "titanic_survive_X=titanic.drop('Survived',axis=1)\n",
    "titanic_survive_y=titanic[\"Survived\"]"
   ]
  },
  {
   "cell_type": "code",
   "execution_count": null,
   "id": "d0d306f0",
   "metadata": {},
   "outputs": [],
   "source": [
    "titanic_X_train, titanic_X_test, titanic_y_train, titanic_y_test = train_test_split(\n",
    "    titanic_survive_X, titanic_survive_y, test_size=0.2, random_state=42\n",
    ")\n"
   ]
  },
  {
   "cell_type": "code",
   "execution_count": null,
   "id": "56c09abe",
   "metadata": {},
   "outputs": [],
   "source": [
    "models = {\n",
    "    \"Logistic Regression\": LogisticRegression(),\n",
    "    \"Random Forest\": RandomForestClassifier(),\n",
    "    \"XGBoost\": XGBClassifier()\n",
    "}"
   ]
  },
  {
   "cell_type": "code",
   "execution_count": null,
   "id": "be49eb14",
   "metadata": {},
   "outputs": [],
   "source": [
    "classification_results = {}\n",
    "\n",
    "for model_name, model in models.items():\n",
    "    print(f\"Training {model_name}...\")\n",
    "    pipeline = Pipeline([\n",
    "        (\"preprocessor\", preprocessor),\n",
    "        (\"model\", model)\n",
    "    ])\n",
    "    \n",
    "    cv_scores = cross_val_score(pipeline, titanic_survive_X, titanic_survive_y, cv=5, scoring=\"accuracy\")\n",
    "    #score per fold ,it split autumatically\n",
    "    print(cv_scores)\n",
    "    classification_results[model_name] = cv_scores.mean()\n",
    "    # result_df = pd.DataFrame.from_dict(classification_results, orient='index', columns=[\"Mean Accuracy\"])\n"
   ]
  },
  {
   "cell_type": "code",
   "execution_count": null,
   "id": "b420aa21",
   "metadata": {},
   "outputs": [],
   "source": [
    "# Results\n",
    "result_df = pd.DataFrame(\n",
    "    list(classification_results.values()),\n",
    "    index=classification_results.keys(),\n",
    "    columns=[\"Accuracy\"]\n",
    ")\n",
    "print(\"\\nResults:\\n\", result_df)\n",
    "\n",
    "#Logistic Regression  0.792361 -->it has the highest average accurecy\n"
   ]
  },
  {
   "cell_type": "code",
   "execution_count": null,
   "id": "9af497e3",
   "metadata": {},
   "outputs": [],
   "source": [
    "from sklearn.metrics import classification_report,precision_score,recall_score,f1_score,confusion_matrix\n",
    "from sklearn.metrics import confusion_matrix\n",
    "from sklearn.metrics import RocCurveDisplay\n",
    "from sklearn.model_selection import GridSearchCV\n"
   ]
  },
  {
   "cell_type": "code",
   "execution_count": null,
   "id": "03d2c704",
   "metadata": {},
   "outputs": [],
   "source": [
    "pipeline = Pipeline([\n",
    "    (\"preprocessor\", preprocessor),\n",
    "    (\"model\", LogisticRegression(max_iter=1000))\n",
    "])\n"
   ]
  },
  {
   "cell_type": "code",
   "execution_count": null,
   "id": "5580778e",
   "metadata": {},
   "outputs": [],
   "source": [
    "# hyperparameters to try\n",
    "param_grid = {\n",
    "    \"model__C\": [0.01, 0.1, 1, 10, 100],        \n",
    "    \"model__solver\": [\"liblinear\"]}     \n",
    "\n",
    "grid_search = GridSearchCV(\n",
    "    estimator=pipeline,\n",
    "    param_grid=param_grid,\n",
    "    cv=5,\n",
    "    scoring=\"accuracy\",\n",
    "    n_jobs=-1\n",
    ")\n"
   ]
  },
  {
   "cell_type": "code",
   "execution_count": null,
   "id": "cce9d9fd",
   "metadata": {},
   "outputs": [],
   "source": [
    "grid_search.fit(titanic_survive_X, titanic_survive_y)\n"
   ]
  },
  {
   "cell_type": "code",
   "execution_count": null,
   "id": "a9345b44",
   "metadata": {},
   "outputs": [],
   "source": [
    "print(\"Best parameters:\", grid_search.best_params_)\n",
    "print(\"Best mean CV accuracy:\", grid_search.best_score_)\n",
    "\n"
   ]
  },
  {
   "cell_type": "code",
   "execution_count": null,
   "id": "360e3fba",
   "metadata": {},
   "outputs": [],
   "source": [
    "clf = grid_search.best_estimator_\n",
    "y_pred=clf.predict(titanic_X_test)"
   ]
  },
  {
   "cell_type": "code",
   "execution_count": null,
   "id": "cf44d853",
   "metadata": {},
   "outputs": [],
   "source": [
    "import seaborn as sns\n",
    "def plot_conf_mat(y_test, y_pred, title=\"Confusion Matrix\"):\n",
    "    fig, ax = plt.subplots(figsize=(4,4))\n",
    "    sns.heatmap(confusion_matrix(y_test, y_pred), annot=True, fmt='d', cbar=False, ax=ax)\n",
    "    ax.set_xlabel(\"Predicted Label\")\n",
    "    ax.set_ylabel(\"True Label\")\n",
    "    ax.set_title(title)\n",
    "    bottom, top = ax.get_ylim()\n",
    "    ax.set_ylim(bottom + 0.5, top - 0.5)\n",
    "    plt.show()\n",
    "\n",
    "plot_conf_mat(titanic_y_test,y_pred)"
   ]
  },
  {
   "cell_type": "code",
   "execution_count": null,
   "id": "239b5965",
   "metadata": {},
   "outputs": [],
   "source": [
    "print(classification_report(titanic_y_test,y_pred))\n",
    "\n",
    "x=precision_score(titanic_y_test,y_pred)\n",
    "t=recall_score(titanic_y_test,y_pred)\n"
   ]
  },
  {
   "cell_type": "code",
   "execution_count": null,
   "id": "6daa5919",
   "metadata": {},
   "outputs": [],
   "source": [
    "\n",
    "print(x)\n",
    "print(t)"
   ]
  },
  {
   "cell_type": "code",
   "execution_count": null,
   "id": "2fba85c6",
   "metadata": {},
   "outputs": [],
   "source": [
    "from joblib import dump, load\n",
    "dump(clf,\"clf_modek.joblib\")\n",
    "\n",
    "Loaded_model=load(\"clf_modek.joblib\")\n",
    "\n",
    "print(f\"Model score:{clf.score(titanic_X_test,titanic_y_test)}\")\n",
    "print(f\"loaded model score:{Loaded_model.score(titanic_X_test,titanic_y_test)}\")\n"
   ]
  }
 ],
 "metadata": {
  "kernelspec": {
   "display_name": ".venv (3.13.7)",
   "language": "python",
   "name": "python3"
  },
  "language_info": {
   "name": "python",
   "version": "3.13.7"
  }
 },
 "nbformat": 4,
 "nbformat_minor": 5
}
