{
 "cells": [
  {
   "cell_type": "code",
   "execution_count": 1,
   "id": "c9ce3ad5",
   "metadata": {},
   "outputs": [
    {
     "ename": "ModuleNotFoundError",
     "evalue": "No module named 'pandas'",
     "output_type": "error",
     "traceback": [
      "\u001b[31m---------------------------------------------------------------------------\u001b[39m",
      "\u001b[31mModuleNotFoundError\u001b[39m                       Traceback (most recent call last)",
      "\u001b[36mCell\u001b[39m\u001b[36m \u001b[39m\u001b[32mIn[1]\u001b[39m\u001b[32m, line 1\u001b[39m\n\u001b[32m----> \u001b[39m\u001b[32m1\u001b[39m \u001b[38;5;28;01mimport\u001b[39;00m\u001b[38;5;250m \u001b[39m\u001b[34;01mpandas\u001b[39;00m\u001b[38;5;250m \u001b[39m\u001b[38;5;28;01mas\u001b[39;00m\u001b[38;5;250m \u001b[39m\u001b[34;01mpd\u001b[39;00m\n\u001b[32m      2\u001b[39m \u001b[38;5;28;01mimport\u001b[39;00m\u001b[38;5;250m \u001b[39m\u001b[34;01mseaborn\u001b[39;00m\u001b[38;5;250m \u001b[39m\u001b[38;5;28;01mas\u001b[39;00m\u001b[38;5;250m \u001b[39m\u001b[34;01msns\u001b[39;00m\n\u001b[32m      3\u001b[39m \u001b[38;5;28;01mimport\u001b[39;00m\u001b[38;5;250m \u001b[39m\u001b[34;01mmatplotlib\u001b[39;00m\u001b[34;01m.\u001b[39;00m\u001b[34;01mpyplot\u001b[39;00m\u001b[38;5;250m \u001b[39m\u001b[38;5;28;01mas\u001b[39;00m\u001b[38;5;250m \u001b[39m\u001b[34;01mplt\u001b[39;00m\n",
      "\u001b[31mModuleNotFoundError\u001b[39m: No module named 'pandas'"
     ]
    }
   ],
   "source": [
    "import pandas as pd\n",
    "import seaborn as sns\n",
    "import matplotlib.pyplot as plt"
   ]
  },
  {
   "cell_type": "code",
   "execution_count": null,
   "id": "b60ef8ca",
   "metadata": {},
   "outputs": [],
   "source": [
    "from sklearn.model_selection import cross_val_score\n",
    "from sklearn.pipeline import Pipeline\n",
    "from sklearn.compose import ColumnTransformer\n",
    "from sklearn.impute import SimpleImputer\n",
    "from sklearn.preprocessing import OneHotEncoder\n",
    "from sklearn.preprocessing import LabelEncoder\n",
    "from sklearn.preprocessing import OrdinalEncoder\n",
    "from sklearn.preprocessing import FunctionTransformer\n",
    "from sklearn.model_selection import train_test_split"
   ]
  },
  {
   "cell_type": "code",
   "execution_count": null,
   "id": "215867eb",
   "metadata": {},
   "outputs": [],
   "source": [
    "titanic = pd.read_csv(r\".\\Titanicdata\\train.csv\")\n",
    "print(titanic.head())\n",
    "print(titanic.info())\n",
    "#cambin,age and embarked have missing values \n",
    "print(titanic.describe())\n",
    "print(titanic['Survived'].value_counts())"
   ]
  },
  {
   "cell_type": "code",
   "execution_count": null,
   "id": "8799376f",
   "metadata": {},
   "outputs": [],
   "source": [
    "#Visualize how many people survived vs didn’t\n",
    "sns.countplot(x='Survived', data=titanic)\n",
    "plt.title(\"Survival Count (0 = Died, 1 = Survived)\")\n",
    "plt.show()\n",
    "##Visualize  survived by gender\n",
    "sns.countplot(x='Sex', hue='Survived', data=titanic)\n",
    "plt.title(\"Survival by Gender\")\n",
    "plt.show()\n"
   ]
  },
  {
   "cell_type": "code",
   "execution_count": null,
   "id": "a0286848",
   "metadata": {},
   "outputs": [],
   "source": [
    "##Visualize  survived by Age \n",
    "# Create age groups\n",
    "titanic['AgeGroup'] = pd.cut(titanic['Age'], \n",
    "                             bins=[0, 12, 18, 35, 60, 80],\n",
    "                             labels=['Child','Teen','Young Adult','Adult','Senior'])\n",
    "\n",
    "# Plot survival by age group\n",
    "sns.countplot(x='AgeGroup', hue='Survived', data=titanic)\n",
    "plt.title(\"Survival by Age Group\")\n",
    "plt.show()"
   ]
  },
  {
   "cell_type": "code",
   "execution_count": null,
   "id": "aa8aeaa6",
   "metadata": {},
   "outputs": [],
   "source": [
    "##Visualize  survived byPassenger Class\n",
    "sns.countplot(x='Pclass', hue='Survived', data=titanic)\n",
    "plt.title(\"Survival by Passenger Class\")\n",
    "plt.show()\n",
    "#Visualize  survived by Embarked\n",
    "sns.countplot(x='Embarked',hue=\"Survived\",data=titanic)\n",
    "plt.title(\"Survival by Port of Embarkation\")\n",
    "plt.show()"
   ]
  },
  {
   "cell_type": "code",
   "execution_count": null,
   "id": "57bbbb06",
   "metadata": {},
   "outputs": [],
   "source": [
    "#Step2:Data Preprocessing\n",
    "print(titanic.info())\n",
    "print(titanic.isna().sum())\n",
    "\n",
    "titanic['Age'] = titanic['Age'].fillna(titanic['Age'].median())\n",
    "print(titanic['Age'])\n",
    "\n",
    "titanic['Cabin'] = titanic['Cabin'].fillna('Unknown')\n",
    "print(titanic.head())\n",
    "\n"
   ]
  },
  {
   "cell_type": "code",
   "execution_count": null,
   "id": "b36203fd",
   "metadata": {},
   "outputs": [],
   "source": [
    "Sex_features=[\"Sex\"]\n",
    "# Fit and transform Sex column\n",
    "# le = LabelEncoder()\n",
    "# # Fit and transform the column\n",
    "# titanic['Sex'] = le.fit_transform(titanic['Sex']) \n",
    "\n",
    "# print(titanic['Sex'])\n",
    "\n",
    "Sex_transformer = Pipeline([\n",
    "    (\"onehot\", OneHotEncoder(drop='if_binary'))\n",
    "])\n"
   ]
  },
  {
   "cell_type": "code",
   "execution_count": null,
   "id": "82b8ca23",
   "metadata": {},
   "outputs": [],
   "source": [
    "Embarked_features=['Embarked']\n",
    "Embarked_transformer=Pipeline(\n",
    "    steps=[\n",
    "        (\"imputer\",SimpleImputer(strategy=\"constant\",fill_value=\"missing\")),\n",
    "         (\"onehot\",OneHotEncoder(handle_unknown=\"ignore\"))\n",
    "    ]\n",
    ")"
   ]
  },
  {
   "cell_type": "code",
   "execution_count": null,
   "id": "a7a26501",
   "metadata": {},
   "outputs": [],
   "source": [
    "# Extract Title from Name\n",
    "def extract_title(X):\n",
    "    X = X.copy()\n",
    "    X['Title'] = X['Name'].str.extract(r'([A-Za-z]+)\\.', expand=False)\n",
    "    return X[['Title']]\n",
    "\n",
    "# Bin Age into groups\n",
    "def bin_age(X):\n",
    "    X = X.copy()\n",
    "    X['Age'] = X['Age'].fillna(X['Age'].median())\n",
    "    bins = [0, 12, 20, 40, 60, 100]\n",
    "    labels = ['Child', 'Teen', 'Adult', 'Middle-Age', 'Senior']\n",
    "    X['AgeGroup'] = pd.cut(X['Age'], bins=bins, labels=labels)\n",
    "    return X[['AgeGroup']]\n"
   ]
  },
  {
   "cell_type": "code",
   "execution_count": null,
   "id": "1f8691b9",
   "metadata": {},
   "outputs": [],
   "source": [
    "\n",
    "name_features=['Name']\n",
    "name_transformer=Pipeline(\n",
    "    steps=[\n",
    "      (\"imputer\",FunctionTransformer(func=extract_title,validate=False)),\n",
    "      ('onehot', OneHotEncoder(handle_unknown='ignore'))\n",
    "      \n",
    "    ]\n",
    ")"
   ]
  },
  {
   "cell_type": "code",
   "execution_count": null,
   "id": "59083d5c",
   "metadata": {},
   "outputs": [],
   "source": [
    "\n",
    "age_features=['Age']\n",
    "age_transformer=Pipeline(\n",
    "    steps=[\n",
    "        (\"imputer\",FunctionTransformer(func=bin_age,validate=False)),\n",
    "        ('onehot', OneHotEncoder(handle_unknown='ignore'))\n",
    "    ]\n",
    ")\n"
   ]
  },
  {
   "cell_type": "code",
   "execution_count": null,
   "id": "a0f97ccf",
   "metadata": {},
   "outputs": [],
   "source": [
    "preprocessor= ColumnTransformer(\n",
    "    transformers=[\n",
    "        (\"sex\",Sex_transformer,Sex_features),\n",
    "        (\"embarked\",Embarked_transformer,Embarked_features),\n",
    "        (\"name\",name_transformer,name_features),\n",
    "        (\"age\",age_transformer,age_features)\n",
    "        ])\n",
    "\n",
    "print(titanic.head())"
   ]
  },
  {
   "cell_type": "code",
   "execution_count": null,
   "id": "2d8e4feb",
   "metadata": {},
   "outputs": [],
   "source": [
    "from sklearn.model_selection import GridSearchCV\n",
    "from sklearn.linear_model import LogisticRegression\n",
    "from sklearn.ensemble import RandomForestClassifier\n",
    "from xgboost import XGBClassifier  "
   ]
  },
  {
   "cell_type": "code",
   "execution_count": null,
   "id": "2082f0b9",
   "metadata": {},
   "outputs": [],
   "source": [
    "titanic_survive_X=titanic.drop('Survived',axis=1)\n",
    "titanic_survive_y=titanic[\"Survived\"]"
   ]
  },
  {
   "cell_type": "code",
   "execution_count": null,
   "id": "e90246a4",
   "metadata": {},
   "outputs": [],
   "source": [
    "titanic_X_train, titanic_X_test, titanic_y_train, titanic_y_test = train_test_split(\n",
    "    titanic_survive_X, titanic_survive_y, test_size=0.2, random_state=42\n",
    ")\n"
   ]
  },
  {
   "cell_type": "code",
   "execution_count": null,
   "id": "2b2609d6",
   "metadata": {},
   "outputs": [],
   "source": [
    "models = {\n",
    "    \"Logistic Regression\": LogisticRegression(),\n",
    "    \"Random Forest\": RandomForestClassifier(),\n",
    "    \"XGBoost\": XGBClassifier()\n",
    "}\n"
   ]
  },
  {
   "cell_type": "code",
   "execution_count": null,
   "id": "6bec460d",
   "metadata": {},
   "outputs": [],
   "source": [
    "classification_results = {}\n",
    "\n",
    "for model_name, model in models.items():\n",
    "    print(f\"Training {model_name}...\")\n",
    "    pipeline = Pipeline([\n",
    "        (\"preprocessor\", preprocessor),\n",
    "        (\"model\", model)\n",
    "    ])\n",
    "    \n",
    "    cv_scores = cross_val_score(pipeline, titanic_survive_X, titanic_survive_y, cv=5, scoring=\"accuracy\")\n",
    "    #score per fold ,it split autumatically\n",
    "    print(cv_scores)\n",
    "    classification_results[model_name] = cv_scores.mean()\n",
    "    # result_df = pd.DataFrame.from_dict(classification_results, orient='index', columns=[\"Mean Accuracy\"])\n",
    "\n",
    "     "
   ]
  },
  {
   "cell_type": "code",
   "execution_count": null,
   "id": "69a4993f",
   "metadata": {},
   "outputs": [],
   "source": [
    "     \n",
    "# Results\n",
    "result_df = pd.DataFrame(\n",
    "    list(classification_results.values()),\n",
    "    index=classification_results.keys(),\n",
    "    columns=[\"Accuracy\"]\n",
    ")\n",
    "print(\"\\nResults:\\n\", result_df)\n",
    "\n",
    "#Logistic Regression  0.792361 -->it has the highest average accurecy"
   ]
  },
  {
   "cell_type": "code",
   "execution_count": null,
   "id": "2b7111c9",
   "metadata": {},
   "outputs": [],
   "source": [
    "from sklearn.metrics import classification_report,precision_score,recall_score,f1_score,confusion_matrix\n",
    "from sklearn.metrics import confusion_matrix\n",
    "from sklearn.metrics import RocCurveDisplay\n",
    "from sklearn.model_selection import GridSearchCV"
   ]
  },
  {
   "cell_type": "code",
   "execution_count": null,
   "id": "3d92ad38",
   "metadata": {},
   "outputs": [],
   "source": [
    "\n",
    "param_grid = {\n",
    "    \"model__C\": [0.01, 0.1, 1, 10, 100],        \n",
    "    \"model__solver\": [\"liblinear\"]}     \n",
    "\n",
    "\n",
    "grid_search = GridSearchCV(\n",
    "    estimator=pipeline,\n",
    "    param_grid=param_grid,\n",
    "    cv=5,\n",
    "    scoring=\"accuracy\",\n",
    "    n_jobs=-1\n",
    ")\n",
    "\n",
    "grid_search.fit(titanic_survive_X, titanic_survive_y)"
   ]
  },
  {
   "cell_type": "code",
   "execution_count": null,
   "id": "5d5877e7",
   "metadata": {},
   "outputs": [],
   "source": [
    "print(\"Best parameters:\", grid_search.best_params_)\n",
    "print(\"Best mean CV accuracy:\", grid_search.best_score_)"
   ]
  },
  {
   "cell_type": "code",
   "execution_count": null,
   "id": "70c90fa1",
   "metadata": {},
   "outputs": [],
   "source": [
    "\n",
    "clf = grid_search.best_estimator_\n",
    "y_pred=clf.predict(titanic_X_test)\n",
    "confusion_matrix(titanic_y_test, y_pred)\n"
   ]
  },
  {
   "cell_type": "code",
   "execution_count": null,
   "id": "20d13ab6",
   "metadata": {},
   "outputs": [],
   "source": [
    "\n",
    "import seaborn as sns\n",
    "def plot_conf_mat(y_test, y_pred, title=\"Confusion Matrix\"):\n",
    "    fig, ax = plt.subplots(figsize=(4,4))\n",
    "    sns.heatmap(confusion_matrix(y_test, y_pred), annot=True, fmt='d', cbar=False, ax=ax)\n",
    "    ax.set_xlabel(\"Predicted Label\")\n",
    "    ax.set_ylabel(\"True Label\")\n",
    "    ax.set_title(title)\n",
    "    bottom, top = ax.get_ylim()\n",
    "    ax.set_ylim(bottom + 0.5, top - 0.5)\n",
    "    plt.show()\n"
   ]
  },
  {
   "cell_type": "code",
   "execution_count": null,
   "id": "e8a436b6",
   "metadata": {},
   "outputs": [],
   "source": [
    "\n",
    "plot_conf_mat(titanic_y_test,y_pred)\n",
    "\n",
    "print(classification_report(titanic_y_test,y_pred))\n",
    "\n",
    "x=precision_score(titanic_y_test,y_pred)\n",
    "t=recall_score(titanic_y_test,y_pred)\n",
    "\n",
    "print(x)\n",
    "print(t)"
   ]
  },
  {
   "cell_type": "code",
   "execution_count": null,
   "id": "5660946c",
   "metadata": {},
   "outputs": [],
   "source": [
    "from joblib import dump, load\n",
    "dump(clf,\"clf_modek.joblib\")\n",
    "\n",
    "Loaded_model=load(\"clf_modek.joblib\")\n",
    "\n",
    "print(f\"Model score:{clf.score(titanic_X_test,titanic_y_test)}\")\n",
    "print(f\"loaded model score:{Loaded_model.score(titanic_X_test,titanic_y_test)}\")\n"
   ]
  }
 ],
 "metadata": {
  "kernelspec": {
   "display_name": "myenv (3.13.7)",
   "language": "python",
   "name": "python3"
  },
  "language_info": {
   "codemirror_mode": {
    "name": "ipython",
    "version": 3
   },
   "file_extension": ".py",
   "mimetype": "text/x-python",
   "name": "python",
   "nbconvert_exporter": "python",
   "pygments_lexer": "ipython3",
   "version": "3.13.7"
  }
 },
 "nbformat": 4,
 "nbformat_minor": 5
}
